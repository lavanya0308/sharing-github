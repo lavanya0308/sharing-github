{
 "cells": [
  {
   "cell_type": "markdown",
   "metadata": {},
   "source": [
    "# File Handling in Python"
   ]
  },
  {
   "cell_type": "markdown",
   "metadata": {},
   "source": [
    "Python too supports file handling and allows users to handle files i.e., to read and write files, along with many other file handling options, to operate on files. The concept of file handling has stretched over various other languages, but the implementation is either complicated or lengthy, but alike other concepts of Python, this concept here is also easy and short. Python treats file differently as text or binary and this is important. Each line of code includes a sequence of characters and they form text file. Each line of a file is terminated with a special character, called the EOL or End of Line characters like comma {,} or newline character. It ends the current line and tells the interpreter a new one has begun. Let’s start with Reading and Writing files."
   ]
  },
  {
   "cell_type": "markdown",
   "metadata": {},
   "source": [
    "Working of open() function\n",
    "\n",
    "We use open () function in Python to open a file in read or write mode. As explained above, open ( ) will return a file object. To return a file object we use open() function along with two arguments, that accepts file name and the mode, whether to read or write. So, the syntax being: open(filename, mode). There are three kinds of mode, that Python provides and how files can be opened:\n",
    "\n",
    "“ r “, for reading.\n",
    "\n",
    "“ w “, for writing.\n",
    "\n",
    "“ a “, for appending.\n",
    "\n",
    "“ r+ “, for both reading and writing\n",
    "\n",
    "One must keep in mind that the mode argument is not mandatory. If not passed, then Python will assume it to be “ r ” by default. Let’s look at this program and try to analyze how the read mode works:"
   ]
  },
  {
   "cell_type": "code",
   "execution_count": null,
   "metadata": {},
   "outputs": [],
   "source": [
    "# a file named \"geek\", will be opened with the reading mode.\n",
    "file = open('geek.txt', 'r')\n",
    "# This will print every line one by one in the file\n",
    "for each in file:\n",
    "    print (each)"
   ]
  },
  {
   "cell_type": "markdown",
   "metadata": {},
   "source": [
    "The open command will open the file in the read mode and the for loop will print each line present in the file.\n",
    "\n"
   ]
  },
  {
   "cell_type": "markdown",
   "metadata": {},
   "source": [
    "# Working of read() mode\n",
    "\n",
    "There is more than one way to read a file in Python. If you need to extract a string that contains all characters in the file then we can use file.read(). The full code would work like this:\n",
    "\n",
    "# Python code to illustrate read() mode\n",
    "file = open(\"file.text\", \"r\") \n",
    "\n",
    "print (file.read())\n",
    "\n",
    "Another way to read a file is to call a certain number of characters like in the following code the interpreter will read the first five characters of stored data and return it as a string:\n",
    "\n",
    "# Python code to illustrate read() mode character wise\n",
    "file = open(\"file.txt\", \"r\")\n",
    "\n",
    "print (file.read(5))\n",
    "\n",
    "Creating a file using write() mode\n",
    "\n",
    "Let’s see how to create a file and how write mode works:\n",
    "To manipulate the file, write the following in your Python environment:\n",
    "\n",
    "# Python code to create a file\n",
    "file = open('geek.txt','w')\n",
    "\n",
    "file.write(\"This is the write command\")\n",
    "\n",
    "file.write(\"It allows us to write in a particular file\")\n",
    "\n",
    "file.close()\n",
    "\n",
    "The close() command terminates all the resources in use and frees the system of this particular program."
   ]
  },
  {
   "cell_type": "code",
   "execution_count": null,
   "metadata": {},
   "outputs": [],
   "source": []
  }
 ],
 "metadata": {
  "kernelspec": {
   "display_name": "Python 3",
   "language": "python",
   "name": "python3"
  },
  "language_info": {
   "codemirror_mode": {
    "name": "ipython",
    "version": 3
   },
   "file_extension": ".py",
   "mimetype": "text/x-python",
   "name": "python",
   "nbconvert_exporter": "python",
   "pygments_lexer": "ipython3",
   "version": "3.7.1"
  }
 },
 "nbformat": 4,
 "nbformat_minor": 2
}
